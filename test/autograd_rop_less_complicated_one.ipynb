{
 "cells": [
  {
   "cell_type": "code",
   "execution_count": 20,
   "metadata": {
    "collapsed": true
   },
   "outputs": [],
   "source": [
    "function clone (t) -- deep-copy a table\n",
    "    if type(t) ~= \"table\" then return t end\n",
    "    local meta = getmetatable(t)\n",
    "    local target = {}\n",
    "    for k, v in pairs(t) do\n",
    "        if type(v) == \"table\" then\n",
    "            target[k] = clone(v)\n",
    "        else\n",
    "            target[k] = v\n",
    "        end\n",
    "    end\n",
    "    setmetatable(target, meta)\n",
    "    return target\n",
    "end"
   ]
  },
  {
   "cell_type": "code",
   "execution_count": 213,
   "metadata": {
    "collapsed": false
   },
   "outputs": [],
   "source": [
    "local d = require 'autograd'\n",
    "local t = require 'torch'\n",
    "d.optimize(true)\n",
    "\n",
    "local input_size = 2\n",
    "local hidden_size1 = 3\n",
    "local output_size = 2\n",
    "\n",
    "-- some data:\n",
    "x = torch.randn(1,input_size)\n",
    "y = torch.Tensor(1,output_size):zero() y[1][2] = 1\n",
    "\n",
    "params = {\n",
    "   W = {\n",
    "      t.randn(input_size,hidden_size1),\n",
    "      t.randn(hidden_size1,output_size)\n",
    "   },\n",
    "   b = {\n",
    "      t.randn(hidden_size1),\n",
    "      t.randn(output_size)\n",
    "        }\n",
    "}\n",
    "\n",
    "-- define model\n",
    "innerFn = function(params, x, y)\n",
    "   local h1 = t.tanh(x * params.W[1] + params.b[1])\n",
    "   local h2 = t.tanh(h1 * params.W[2] + params.b[2])\n",
    "   local yHat = h2 - t.log(t.sum(t.exp(h2)))\n",
    "   local loss = - t.sum(t.cmul(yHat, y))\n",
    "   return loss\n",
    "end\n",
    "\n",
    "--local grads, loss = d(innerFn)(params, x,y)\n",
    "\n",
    "v = {\n",
    "   W = {\n",
    "      t.randn(input_size,hidden_size1):fill(2),\n",
    "      t.randn(hidden_size1,output_size):fill(3)\n",
    "   },\n",
    "   b = {\n",
    "      t.randn(hidden_size1),\n",
    "      t.randn(output_size)\n",
    "        }\n",
    "}\n",
    "\n",
    "--grads = d(innerFn)(params, x, y)\n",
    "\n",
    "--     local temp1 = 0\n",
    "--     for i = 1, #grads.W do\n",
    "--         temp1 = temp1 + t.sum(t.cmul(grads.W[i], v.W[i]))\n",
    "--         temp2 = temp2 + t.sum(t.cmul(grads.b[i], v.b[i]))\n",
    "--     end\n",
    "\n",
    "\n",
    "-- local outerFn = function(params, x, y, v, grads)\n",
    "--     --local product = clone(grads)\n",
    "-- --     local flattened_grads = grads:view(grads:nElement()) \n",
    "-- --     local flattened_params = params:view(params:nElement())\n",
    "-- --    return flattened_grads * flattened_params\n",
    "-- --     local temp1 = 0\n",
    "-- --     for i = 1, #grads.W do\n",
    "-- --         temp1 = temp1 + t.sum(t.cmul(grads.W[i], v.W[i]))\n",
    "-- --         temp2 = temp2 + t.sum(t.cmul(grads.b[i], v.b[i]))\n",
    "-- --     end\n",
    "--     local temp1 = t.sum(t.cmul(grads.W[1], v.W[1])) \n",
    "--     local temp2 = t.sum(t.cmul(grads.W[2], v.W[2]))\n",
    "--     local temp3 = t.sum(t.cmul(grads.b[1], v.b[1])) \n",
    "--     local temp4 = t.sum(t.cmul(grads.b[2], v.b[2]))\n",
    "--     local ans = temp1 + temp2 + temp3 + temp4\n",
    "--     return ans\n",
    "-- end\n",
    "\n",
    "-- Hv, loss = d(outerFn)(params, x, y, v, grads)        \n",
    "\n",
    "-- print(outerFn(params,x,y,v,grads))\n",
    "\n",
    "--print(t.sum(t.cmul(grads.W[1].raw, v.W[1])) + t.sum(t.cmul(grads.W[2].raw, v.W[2])))\n",
    "\n",
    "\n",
    "--grads(params, x, y)\n",
    "\n",
    "--print(grads)\n",
    "local ddf = d(function(params, x, y, v)\n",
    "   local grads = d(innerFn)(params, x, y)\n",
    "    \n",
    "   local temp1 = t.sum(t.cmul(grads.W[1] , v.W[1])) + t.sum(t.cmul(grads.W[2] , v.W[2])) \n",
    "   local temp2 = t.sum(t.cmul(grads.b[1] , v.b[1])) + t.sum(t.cmul(grads.b[2] , v.b[2])) \n",
    "   return temp1 + temp2\n",
    "end)\n",
    "\n",
    "gradGrads = ddf(params, x, y, v) -- second order gradient of innerFn"
   ]
  },
  {
   "cell_type": "code",
   "execution_count": 202,
   "metadata": {
    "collapsed": false
   },
   "outputs": [],
   "source": [
    "local d = require 'autograd'\n",
    "grads = d(innerFn)(params, x, y)"
   ]
  },
  {
   "cell_type": "code",
   "execution_count": 219,
   "metadata": {
    "collapsed": false
   },
   "outputs": [
    {
     "data": {
      "text/plain": [
       " 0.0513  0.0339  0.0360\n",
       "-0.3436 -0.2268 -0.2409\n",
       "[torch.DoubleTensor of size 2x3]\n",
       "\n"
      ]
     },
     "execution_count": 219,
     "metadata": {},
     "output_type": "execute_result"
    }
   ],
   "source": [
    "gradGrads.W[1].raw  "
   ]
  },
  {
   "cell_type": "code",
   "execution_count": 89,
   "metadata": {
    "collapsed": false
   },
   "outputs": [
    {
     "data": {
      "text/plain": [
       "-0.0227\n",
       " 0.1491\n",
       "-0.0608\n",
       "[torch.DoubleTensor of size 3]\n",
       "\n"
      ]
     },
     "execution_count": 89,
     "metadata": {},
     "output_type": "execute_result"
    }
   ],
   "source": [
    "print(grads.b[1].raw) "
   ]
  },
  {
   "cell_type": "code",
   "execution_count": 145,
   "metadata": {
    "collapsed": false
   },
   "outputs": [
    {
     "data": {
      "text/plain": [
       "-0.031547755784681\t\n"
      ]
     },
     "execution_count": 145,
     "metadata": {},
     "output_type": "execute_result"
    }
   ],
   "source": [
    "local t = require 'torch'\n",
    "print(t.sum(t.cmul(grads.W[1].raw, v.W[1])))"
   ]
  },
  {
   "cell_type": "code",
   "execution_count": 114,
   "metadata": {
    "collapsed": false
   },
   "outputs": [
    {
     "data": {
      "text/plain": [
       "0.19181352327621\t\n"
      ]
     },
     "execution_count": 114,
     "metadata": {},
     "output_type": "execute_result"
    }
   ],
   "source": [
    "print(torch.sum(torch.cmul(v.W[1], grads.W[1].raw)))"
   ]
  },
  {
   "cell_type": "code",
   "execution_count": 115,
   "metadata": {
    "collapsed": false
   },
   "outputs": [
    {
     "data": {
      "text/plain": [
       "0.19181352327621\t\n"
      ]
     },
     "execution_count": 115,
     "metadata": {},
     "output_type": "execute_result"
    }
   ],
   "source": [
    "print(torch.sum(torch.cmul(grads.W[1].raw, v.W[1])) ) "
   ]
  },
  {
   "cell_type": "code",
   "execution_count": 117,
   "metadata": {
    "collapsed": false
   },
   "outputs": [
    {
     "data": {
      "text/plain": [
       "0.62429451968032\t\n"
      ]
     },
     "execution_count": 117,
     "metadata": {},
     "output_type": "execute_result"
    }
   ],
   "source": [
    "print(torch.sum(torch.cmul(grads.W[2].raw, v.W[2]))) "
   ]
  },
  {
   "cell_type": "code",
   "execution_count": 119,
   "metadata": {
    "collapsed": false
   },
   "outputs": [
    {
     "data": {
      "text/plain": [
       "0.81610804295654\t\n"
      ]
     },
     "execution_count": 119,
     "metadata": {},
     "output_type": "execute_result"
    }
   ],
   "source": [
    "print( torch.sum(torch.cmul(grads.W[1].raw, v.W[1])) + torch.sum(torch.cmul(grads.W[2].raw, v.W[2])) )"
   ]
  },
  {
   "cell_type": "code",
   "execution_count": 123,
   "metadata": {
    "collapsed": false
   },
   "outputs": [],
   "source": [
    "local t = require 'torch'\n",
    "\n",
    "a = t.sum(t.cmul(grads.b[1].raw, v.b[1])) + t.sum(t.cmul(grads.b[2].raw, v.b[2]))"
   ]
  },
  {
   "cell_type": "code",
   "execution_count": 154,
   "metadata": {
    "collapsed": false
   },
   "outputs": [
    {
     "data": {
      "text/plain": [
       "{\n",
       "}\n"
      ]
     },
     "execution_count": 154,
     "metadata": {},
     "output_type": "execute_result"
    }
   ],
   "source": [
    "print(Hv.b)"
   ]
  },
  {
   "cell_type": "code",
   "execution_count": null,
   "metadata": {
    "collapsed": true
   },
   "outputs": [],
   "source": [
    "local ddf = d(function(params)\n",
    "   local grads = d(innerFn)(params)\n",
    "   -- do something with grads of innerFn...\n",
    "end)\n",
    "local gradGrads = ddf(params)"
   ]
  }
 ],
 "metadata": {
  "kernelspec": {
   "display_name": "iTorch",
   "language": "lua",
   "name": "itorch"
  },
  "language_info": {
   "name": "lua",
   "version": "20100"
  }
 },
 "nbformat": 4,
 "nbformat_minor": 0
}
