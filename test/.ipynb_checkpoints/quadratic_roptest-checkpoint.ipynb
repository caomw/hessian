{
 "cells": [
  {
   "cell_type": "code",
   "execution_count": null,
   "metadata": {
    "collapsed": true
   },
   "outputs": [],
   "source": []
  },
  {
   "cell_type": "code",
   "execution_count": 120,
   "metadata": {
    "collapsed": false
   },
   "outputs": [],
   "source": [
    "t = require 'torch'\n",
    "torch.manualSeed(1)\n",
    "d.optimize(true)\n",
    "n = 5\n",
    "A = t.rand(n,n)*10\n",
    "b = t.rand(n, 1)*10\n",
    "c = t.rand(1)*10\n",
    "-- define a quadratic function\n",
    "function quadratic(x, A, b, c)\n",
    "    print(x)\n",
    "    print(A)\n",
    "    local ans = t.transpose(x, 1,2) * A * x + t.transpose(b,1,2)*x + c\n",
    "    return t.sum(ans)\n",
    "end"
   ]
  },
  {
   "cell_type": "code",
   "execution_count": 56,
   "metadata": {
    "collapsed": false
   },
   "outputs": [
    {
     "data": {
      "text/plain": [
       "4802.6969790577\t\n"
      ]
     },
     "execution_count": 56,
     "metadata": {},
     "output_type": "execute_result"
    }
   ],
   "source": [
    "torch.manualSeed(1)\n",
    "x = t.rand(n, 1)*10\n",
    "print(quadratic(x, A, b, c))"
   ]
  },
  {
   "cell_type": "code",
   "execution_count": 61,
   "metadata": {
    "collapsed": false
   },
   "outputs": [
    {
     "data": {
      "text/plain": [
       " 359.3970\n",
       " 267.2283\n",
       " 325.6195\n",
       " 317.1353\n",
       " 279.7066\n",
       "[torch.DoubleTensor of size 5x1]\n",
       "\n"
      ]
     },
     "execution_count": 61,
     "metadata": {},
     "output_type": "execute_result"
    }
   ],
   "source": [
    "d = require 'autograd'\n",
    "\n",
    "local df = d(quadratic)\n",
    "\n",
    "aaa = df(x,A,b,c)\n",
    "\n",
    "print(aaa)"
   ]
  },
  {
   "cell_type": "code",
   "execution_count": 99,
   "metadata": {
    "collapsed": false
   },
   "outputs": [
    {
     "data": {
      "text/plain": [
       " 946.6830\n",
       "[torch.DoubleTensor of size 1x1]\n",
       "\n",
       " 946.6830\n",
       "[torch.DoubleTensor of size 1x1]\n",
       "\n",
       " 0.4170\n",
       " 0.9972\n",
       " 0.7203\n",
       " 0.9326\n",
       " 0.0001\n",
       "[torch.DoubleTensor of size 5x1]\n",
       "\n"
      ]
     },
     "execution_count": 99,
     "metadata": {},
     "output_type": "execute_result"
    }
   ],
   "source": [
    "torch.manualSeed(1)\n",
    "v = t.rand(1, n)\n",
    "\n",
    "local df = d(quadratic)\n",
    "aaa = df(x,A,b,c)\n",
    "\n",
    "print(v * aaa)\n",
    "\n",
    "function getHv(grad, vv)\n",
    "    local ans =  vv * grad\n",
    "    print(t.sum(ans).argValues[1])\n",
    "    return t.sum(ans)\n",
    "end\n",
    "\n",
    "local fgetHv = d(getHv)\n",
    "local Hv = fgetHv(aaa, v)\n",
    "print(Hv)"
   ]
  },
  {
   "cell_type": "code",
   "execution_count": 95,
   "metadata": {
    "collapsed": false
   },
   "outputs": [
    {
     "data": {
      "text/plain": [
       " 25.5682\n",
       " 12.1143\n",
       "  9.2993\n",
       " 18.5142\n",
       " 14.6998\n",
       "[torch.DoubleTensor of size 5x1]\n",
       "\n"
      ]
     },
     "execution_count": 95,
     "metadata": {},
     "output_type": "execute_result"
    }
   ],
   "source": [
    "A*v:t()"
   ]
  },
  {
   "cell_type": "code",
   "execution_count": 124,
   "metadata": {
    "collapsed": false
   },
   "outputs": [
    {
     "data": {
      "text/plain": [
       "printing x\t\n",
       " 4.1702\n",
       " 9.9718\n",
       " 7.2032\n",
       " 9.3256\n",
       " 0.0011\n",
       "[torch.DoubleTensor of size 5x1]\n",
       "\n",
       "printing param\t\n",
       " 4.1702\n",
       " 9.9718\n",
       " 7.2032\n",
       " 9.3256\n",
       " 0.0011\n",
       "[torch.DoubleTensor of size 5x1]\n",
       "\n",
       "{\n",
       "  raw : DoubleTensor - size: 5x1\n",
       "  type : tensor\n",
       "  source : \n",
       "    {\n",
       "      type : param\n",
       "      name : 1\n",
       "    }\n",
       "}\n",
       "{\n",
       "  raw : DoubleTensor - size: 5x5\n",
       "  type : tensor\n",
       "  source : \n",
       "    {\n",
       "      type : param\n",
       "      name : 2\n",
       "    }\n",
       "}\n"
      ]
     },
     "execution_count": 124,
     "metadata": {},
     "output_type": "execute_result"
    },
    {
     "ename": ".../yutaro/torch/install/share/lua/5.1/autograd/support.lua:46: attempt to call method 'transpose' (a nil value)\nstack traceback:\n\t.../yutaro/torch/install/share/lua/5.1/autograd/support.lua:46: in function 'fn'\n\t...all/share/lua/5.1/autograd/runtime/direct/DirectTape.lua:93: in function 'transpose'\n\t[string \"t = require 'torch'...\"]:12: in function 'fn'\n\t...install/share/lua/5.1/autograd/runtime/codegen/Graph.lua:353: in function 'protectedFn'\n\t...install/share/lua/5.1/autograd/runtime/codegen/Graph.lua:383: in function 'record'\n\t.../install/share/lua/5.1/autograd/runtime/codegen/init.lua:20: in function <.../install/share/lua/5.1/autograd/runtime/codegen/init.lua:19>\n\t[string \"torch.manualSeed(1)...\"]:4: in function 'fn'\n\t...install/share/lua/5.1/autograd/runtime/codegen/Graph.lua:353: in function 'protectedFn'\n\t...install/share/lua/5.1/autograd/runtime/codegen/Graph.lua:383: in function 'record'\n\t.../install/share/lua/5.1/autograd/runtime/codegen/init.lua:20: in function 'ddf'\n\t[string \"torch.manualSeed(1)...\"]:14: in main chunk\n\t[C]: in function 'xpcall'\n\t/Users/yutaro/torch/install/share/lua/5.1/itorch/main.lua:177: in function </Users/yutaro/torch/install/share/lua/5.1/itorch/main.lua:143>\n\t/Users/yutaro/torch/install/share/lua/5.1/lzmq/poller.lua:75: in function 'poll'\n\t...rs/yutaro/torch/install/share/lua/5.1/lzmq/impl/loop.lua:307: in function 'poll'\n\t...rs/yutaro/torch/install/share/lua/5.1/lzmq/impl/loop.lua:325: in function 'sleep_ex'\n\t...rs/yutaro/torch/install/share/lua/5.1/lzmq/impl/loop.lua:370: in function 'start'\n\t/Users/yutaro/torch/install/share/lua/5.1/itorch/main.lua:344: in main chunk\n\t[C]: in function 'require'\n\t[string \"arg={'/Users/yutaro/.ipython/profile_default/...\"]:1: in main chunk",
     "evalue": "",
     "output_type": "error",
     "traceback": [
      ".../yutaro/torch/install/share/lua/5.1/autograd/support.lua:46: attempt to call method 'transpose' (a nil value)\nstack traceback:\n\t.../yutaro/torch/install/share/lua/5.1/autograd/support.lua:46: in function 'fn'\n\t...all/share/lua/5.1/autograd/runtime/direct/DirectTape.lua:93: in function 'transpose'\n\t[string \"t = require 'torch'...\"]:12: in function 'fn'\n\t...install/share/lua/5.1/autograd/runtime/codegen/Graph.lua:353: in function 'protectedFn'\n\t...install/share/lua/5.1/autograd/runtime/codegen/Graph.lua:383: in function 'record'\n\t.../install/share/lua/5.1/autograd/runtime/codegen/init.lua:20: in function <.../install/share/lua/5.1/autograd/runtime/codegen/init.lua:19>\n\t[string \"torch.manualSeed(1)...\"]:4: in function 'fn'\n\t...install/share/lua/5.1/autograd/runtime/codegen/Graph.lua:353: in function 'protectedFn'\n\t...install/share/lua/5.1/autograd/runtime/codegen/Graph.lua:383: in function 'record'\n\t.../install/share/lua/5.1/autograd/runtime/codegen/init.lua:20: in function 'ddf'\n\t[string \"torch.manualSeed(1)...\"]:14: in main chunk\n\t[C]: in function 'xpcall'\n\t/Users/yutaro/torch/install/share/lua/5.1/itorch/main.lua:177: in function </Users/yutaro/torch/install/share/lua/5.1/itorch/main.lua:143>\n\t/Users/yutaro/torch/install/share/lua/5.1/lzmq/poller.lua:75: in function 'poll'\n\t...rs/yutaro/torch/install/share/lua/5.1/lzmq/impl/loop.lua:307: in function 'poll'\n\t...rs/yutaro/torch/install/share/lua/5.1/lzmq/impl/loop.lua:325: in function 'sleep_ex'\n\t...rs/yutaro/torch/install/share/lua/5.1/lzmq/impl/loop.lua:370: in function 'start'\n\t/Users/yutaro/torch/install/share/lua/5.1/itorch/main.lua:344: in main chunk\n\t[C]: in function 'require'\n\t[string \"arg={'/Users/yutaro/.ipython/profile_default/...\"]:1: in main chunk"
     ]
    }
   ],
   "source": [
    "torch.manualSeed(1)\n",
    "local ddf = d(function(param, AA, bb, cc, vv)\n",
    "    print(\"printing param\") print(param.raw)\n",
    "    local grads = d(quadratic)(param.raw, AA.raw, bb.raw, cc.raw)\n",
    "    print(\"printing grads\")\n",
    "    print(grads)\n",
    "    local ans = t.sum(t.cmul(vv, grads))\n",
    "    print(\"printing ans\") print(ans)\n",
    "    return ans\n",
    "end)\n",
    "print(\"printing x\")\n",
    "print(x)\n",
    "vvv = t.rand(n, 1)\n",
    "local gradGrads = ddf(x, A, b, c, vvv)  "
   ]
  },
  {
   "cell_type": "code",
   "execution_count": 82,
   "metadata": {
    "collapsed": false
   },
   "outputs": [
    {
     "data": {
      "text/plain": [
       " 359.3970\n",
       " 267.2283\n",
       " 325.6195\n",
       " 317.1353\n",
       " 279.7066\n",
       "[torch.DoubleTensor of size 5x1]\n",
       "\n"
      ]
     },
     "execution_count": 82,
     "metadata": {},
     "output_type": "execute_result"
    }
   ],
   "source": [
    "--    local temp1 = t.sum(t.cmul(grads.W[1] , v.W[1])) + t.sum(t.cmul(grads.W[2] , v.W[2])) \n",
    "--    local temp2 = t.sum(t.cmul(grads.b[1] , v.b[1])) + t.sum(t.cmul(grads.b[2] , v.b[2])) \n",
    "--    return temp1 + temp2\n",
    "\n",
    "local gg = d(quadratic)(x, A, b, c)\n",
    "local v = t.rand(1, n)\n",
    "--print(t.sum(v*gg)) \n",
    "print(gg)"
   ]
  },
  {
   "cell_type": "code",
   "execution_count": null,
   "metadata": {
    "collapsed": true
   },
   "outputs": [],
   "source": []
  }
 ],
 "metadata": {
  "kernelspec": {
   "display_name": "iTorch",
   "language": "lua",
   "name": "itorch"
  },
  "language_info": {
   "name": "lua",
   "version": "20100"
  }
 },
 "nbformat": 4,
 "nbformat_minor": 0
}
