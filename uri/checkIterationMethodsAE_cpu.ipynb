{
 "metadata": {
  "language": "lua",
  "name": "",
  "signature": "sha256:c4db2055ad255533505115fd02f9b781538f0c885d11cdd36d9413bfe581a669"
 },
 "nbformat": 3,
 "nbformat_minor": 0,
 "worksheets": [
  {
   "cells": [
    {
     "cell_type": "code",
     "collapsed": false,
     "input": [
      "require 'nn';"
     ],
     "language": "python",
     "metadata": {},
     "outputs": [],
     "prompt_number": 1
    },
    {
     "cell_type": "code",
     "collapsed": false,
     "input": [
      "-- load data\n",
      "dofile 'dataset-mnist.lua'\n",
      "\n",
      "geometry = {28,28}\n",
      "nbTestingPatches = 10000\n",
      "testData = mnist.loadTrainSet(nbTestingPatches, geometry)\n",
      "\n",
      "print(testData.data[2]:size())\n",
      "print(testData.data[2]:max())\n",
      "print(testData.data[2]:min())"
     ],
     "language": "python",
     "metadata": {},
     "outputs": [
      {
       "metadata": {},
       "output_type": "pyout",
       "prompt_number": 2,
       "text": [
        "<mnist> loading only 10000 examples\t\n",
        "<mnist> done\t\n",
        "  1\n",
        " 28\n",
        " 28\n",
        "[torch.LongStorage of size 3]\n",
        "\n",
        "1\t\n",
        "0\t\n"
       ]
      }
     ],
     "prompt_number": 2
    },
    {
     "cell_type": "code",
     "collapsed": false,
     "input": [
      "--create minibatch\n",
      "batchSize = 1000\n",
      "inputs = torch.Tensor(batchSize,1,geometry[1],geometry[2])\n",
      "targets = torch.Tensor(batchSize)\n",
      "for i = 1,batchSize do\n",
      "     -- load new sample\n",
      "     local sample = testData[i]\n",
      "     local input = sample[1]:clone()\n",
      "     local _,target = sample[2]:clone():max(1)\n",
      "     target = target:squeeze()\n",
      "     inputs[i] = input\n",
      "     targets[i] = target\n",
      "end"
     ],
     "language": "python",
     "metadata": {},
     "outputs": [],
     "prompt_number": 3
    },
    {
     "cell_type": "code",
     "collapsed": false,
     "input": [
      "-- load model\n",
      "local modelPath = '/home/uri/Desktop/HFSF/results/2016-04-05/trainedModels'\n",
      "--modelFile = modelPath.. '/mnist_big_AE_model.lua'\n",
      "--paramFile = modelPath.. '/cpu/mnist_big_AE_sgd3000.net'\n",
      "modelFile = modelPath.. '/mnist_small_AE_model.lua'\n",
      "paramFile = modelPath.. '/cpu/mnist_small_AE_sgd3000.net'\n",
      "model = nn.Sequential()\n",
      "model:add(dofile(modelFile))\n",
      "--print(model)\n",
      "params = torch.load(paramFile)\n",
      "--print(params:size())\n",
      "modelParams,_ = model:getParameters()\n",
      "modelParams:copy(params)\n",
      "\n",
      "for i = 1,10 do\n",
      "    output = model:forward(inputs[i])\n",
      "    itorch.image(inputs[i])\n",
      "    itorch.image(output)\n",
      "end    "
     ],
     "language": "python",
     "metadata": {},
     "outputs": [
      {
       "metadata": {
        "png": {
         "height": 28,
         "width": 28
        }
       },
       "output_type": "display_data",
       "png": "[encoded data removed]",
       "text": [
        "Console does not support images"
       ]
      },
      {
       "metadata": {
        "png": {
         "height": 28,
         "width": 28
        }
       },
       "output_type": "display_data",
       "png": "[encoded data removed]",
       "text": [
        "Console does not support images"
       ]
      },
      {
       "metadata": {
        "png": {
         "height": 28,
         "width": 28
        }
       },
       "output_type": "display_data",
       "png": "[encoded data removed]",
       "text": [
        "Console does not support images"
       ]
      },
      {
       "metadata": {
        "png": {
         "height": 28,
         "width": 28
        }
       },
       "output_type": "display_data",
       "png": "[encoded data removed]",
       "text": [
        "Console does not support images"
       ]
      },
      {
       "metadata": {
        "png": {
         "height": 28,
         "width": 28
        }
       },
       "output_type": "display_data",
       "png": "[encoded data removed]",
       "text": [
        "Console does not support images"
       ]
      },
      {
       "metadata": {
        "png": {
         "height": 28,
         "width": 28
        }
       },
       "output_type": "display_data",
       "png": "[encoded data removed]",
       "text": [
        "Console does not support images"
       ]
      },
      {
       "metadata": {
        "png": {
         "height": 28,
         "width": 28
        }
       },
       "output_type": "display_data",
       "png": "[encoded data removed]",
       "text": [
        "Console does not support images"
       ]
      },
      {
       "metadata": {
        "png": {
         "height": 28,
         "width": 28
        }
       },
       "output_type": "display_data",
       "png": "[encoded data removed]",
       "text": [
        "Console does not support images"
       ]
      },
      {
       "metadata": {
        "png": {
         "height": 28,
         "width": 28
        }
       },
       "output_type": "display_data",
       "png": "[encoded data removed]",
       "text": [
        "Console does not support images"
       ]
      },
      {
       "metadata": {
        "png": {
         "height": 28,
         "width": 28
        }
       },
       "output_type": "display_data",
       "png": "[encoded data removed]",
       "text": [
        "Console does not support images"
       ]
      },
      {
       "metadata": {
        "png": {
         "height": 28,
         "width": 28
        }
       },
       "output_type": "display_data",
       "png": "[encoded data removed]",
       "text": [
        "Console does not support images"
       ]
      },
      {
       "metadata": {
        "png": {
         "height": 28,
         "width": 28
        }
       },
       "output_type": "display_data",
       "png": "[encoded data removed]",
       "text": [
        "Console does not support images"
       ]
      },
      {
       "metadata": {
        "png": {
         "height": 28,
         "width": 28
        }
       },
       "output_type": "display_data",
       "png": "[encoded data removed]",
       "text": [
        "Console does not support images"
       ]
      },
      {
       "metadata": {
        "png": {
         "height": 28,
         "width": 28
        }
       },
       "output_type": "display_data",
       "png": "[encoded data removed]",
       "text": [
        "Console does not support images"
       ]
      },
      {
       "metadata": {
        "png": {
         "height": 28,
         "width": 28
        }
       },
       "output_type": "display_data",
       "png": "[encoded data removed]",
       "text": [
        "Console does not support images"
       ]
      },
      {
       "metadata": {
        "png": {
         "height": 28,
         "width": 28
        }
       },
       "output_type": "display_data",
       "png": "[encoded data removed]",
       "text": [
        "Console does not support images"
       ]
      },
      {
       "metadata": {
        "png": {
         "height": 28,
         "width": 28
        }
       },
       "output_type": "display_data",
       "png": "[encoded data removed]",
       "text": [
        "Console does not support images"
       ]
      },
      {
       "metadata": {
        "png": {
         "height": 28,
         "width": 28
        }
       },
       "output_type": "display_data",
       "png": "[encoded data removed]",
       "text": [
        "Console does not support images"
       ]
      },
      {
       "metadata": {
        "png": {
         "height": 28,
         "width": 28
        }
       },
       "output_type": "display_data",
       "png": "[encoded data removed]",
       "text": [
        "Console does not support images"
       ]
      },
      {
       "metadata": {
        "png": {
         "height": 28,
         "width": 28
        }
       },
       "output_type": "display_data",
       "png": "[encoded data removed]",
       "text": [
        "Console does not support images"
       ]
      }
     ],
     "prompt_number": 4
    },
    {
     "cell_type": "code",
     "collapsed": false,
     "input": [
      "local criterion = nn.MSECriterion()\n",
      "--criterion.sizeAverage = false\n",
      "local outputs = model:forward(inputs)\n",
      "local f = criterion:forward(outputs, inputs)\n",
      "--f = f/inputs:size(1)\n",
      "print(f)"
     ],
     "language": "python",
     "metadata": {},
     "outputs": [
      {
       "metadata": {},
       "output_type": "pyout",
       "prompt_number": 7,
       "text": [
        "0.0094010300606736\t\n"
       ]
      }
     ],
     "prompt_number": 7
    },
    {
     "cell_type": "code",
     "collapsed": false,
     "input": [
      "function hessianPowermethodAE(inputs, param, delta, filepath, modelpath) \n",
      "    local maxIter = 50\n",
      "    local acc_threshold = .2\n",
      "    local criterion = nn.MSECriterion()\n",
      "    --criterion.sizeAverage = false\n",
      "    local model_a  = nn.Sequential ()                                                                                                                                            \n",
      "    model_a:add(dofile(modelFile))\n",
      "    --model_a:add(dofile(filepath .. modelpath))\n",
      "\n",
      "    local model_b = nn.Sequential()\n",
      "    model_b:add(dofile(modelFile))\n",
      "    -- model_b:add(dofile(filepath .. modelpath))\n",
      "\n",
      "    local d = torch.randn(param:size()) --need to check\n",
      "    d = d / torch.norm(d)\n",
      "    \n",
      "    local diff = 10\n",
      "    local param_new_a, gradParam_eps_a = model_a:getParameters() \n",
      "    local param_new_b, gradParam_eps_b = model_b:getParameters() \n",
      "    -- in order to reflect loading a new parameter set\n",
      "    local numIters = 0\n",
      "    while diff > delta and numIters < maxIter do\n",
      "        numIters = numIters+1\n",
      "        epsilon = 2*torch.sqrt(1e-15)*(1 + torch.norm(param))/torch.norm(d)\n",
      "        --print(numIters) --TODO: comment this out\n",
      "        param_new_a:copy(param + d * epsilon)\n",
      "        param_new_b:copy(param - d * epsilon)\n",
      "\n",
      "        --reset gradients\n",
      "        gradParam_eps_a:zero()\n",
      "        gradParam_eps_b:zero()\n",
      "\n",
      "        --feedforward and backpropagation\n",
      "        local outputs = model_a:forward(inputs)\n",
      "        local f = criterion:forward(outputs, inputs)\n",
      "        local df_do = criterion:backward(outputs, inputs)\n",
      "        model_a:backward(inputs, df_do) --gradParams_eps should be updated here \n",
      "             \n",
      "        --f = f/inputs:size(1)\n",
      "        --gradParam_eps_a:div(inputs:size(1))\n",
      "\n",
      "        local outputs = model_b:forward(inputs)\n",
      "        local f = criterion:forward(outputs, inputs)\n",
      "        local df_do = criterion:backward(outputs, inputs)\n",
      "        model_b:backward(inputs, df_do) --gradParams_eps should be updated here \n",
      "        \n",
      "        --f = f/inputs:size(1)\n",
      "        --gradParam_eps_b:div(inputs:size(1))\n",
      "  \n",
      "\n",
      "        local Hd = (gradParam_eps_a - gradParam_eps_b) / (2*epsilon)\n",
      "        local norm_Hd = torch.norm(Hd)\n",
      "        lambda = torch.dot(d, Hd)\n",
      "        diff = torch.norm(d*lambda - Hd) --TODO: comment this out\n",
      "        print('|Hv-lambda v|: '..diff) --TODO: comment this out\n",
      "        print('lambda: '..lambda)\n",
      "        d = Hd / norm_Hd\n",
      "    end\n",
      "    converged = false\n",
      "    if torch.abs(lambda) > diff and diff < acc_threshold\n",
      "        then converged = true\n",
      "    end\n",
      "    return lambda, d, converged\n",
      "end\n"
     ],
     "language": "python",
     "metadata": {},
     "outputs": [],
     "prompt_number": 8
    },
    {
     "cell_type": "code",
     "collapsed": false,
     "input": [
      "maxEigValH, v, converged = hessianPowermethodAE(inputs,params, 1e-7, _, _) \n",
      "print('max eigenvalue of hessian: '..maxEigValH)\n",
      "print('did converge: ')\n",
      "print(converged)"
     ],
     "language": "python",
     "metadata": {},
     "outputs": [
      {
       "metadata": {},
       "output_type": "pyout",
       "prompt_number": 9,
       "text": [
        "|Hv-lambda v|: 0.0049169403623227\t\n",
        "lambda: 0.00017474938751053\t\n"
       ]
      },
      {
       "metadata": {},
       "output_type": "pyout",
       "prompt_number": 9,
       "text": [
        "|Hv-lambda v|: 0.076144558480932\t\n",
        "lambda: 0.26595172495303\t\n"
       ]
      },
      {
       "metadata": {},
       "output_type": "pyout",
       "prompt_number": 9,
       "text": [
        "|Hv-lambda v|: 0.060864618648121\t\n",
        "lambda: 0.30160077914532\t\n"
       ]
      },
      {
       "metadata": {},
       "output_type": "pyout",
       "prompt_number": 9,
       "text": [
        "|Hv-lambda v|: 0.059535379995958\t\n",
        "lambda: 0.32532802363994\t\n"
       ]
      },
      {
       "metadata": {},
       "output_type": "pyout",
       "prompt_number": 9,
       "text": [
        "|Hv-lambda v|: 0.058955285686656\t\n",
        "lambda: 0.34669296870202\t\n"
       ]
      },
      {
       "metadata": {},
       "output_type": "pyout",
       "prompt_number": 9,
       "text": [
        "|Hv-lambda v|: 0.056505897586756\t\n",
        "lambda: 0.3661753562902\t\n"
       ]
      },
      {
       "metadata": {},
       "output_type": "pyout",
       "prompt_number": 9,
       "text": [
        "|Hv-lambda v|: 0.051146439085361\t\n",
        "lambda: 0.38272216779712\t\n"
       ]
      },
      {
       "metadata": {},
       "output_type": "pyout",
       "prompt_number": 9,
       "text": [
        "|Hv-lambda v|: 0.043721195780275\t\n",
        "lambda: 0.3953728129881\t\n"
       ]
      },
      {
       "metadata": {},
       "output_type": "pyout",
       "prompt_number": 9,
       "text": [
        "|Hv-lambda v|: 0.035745349212627\t\n",
        "lambda: 0.40414881779479\t\n"
       ]
      },
      {
       "metadata": {},
       "output_type": "pyout",
       "prompt_number": 9,
       "text": [
        "|Hv-lambda v|: 0.028368335035324\t\n",
        "lambda: 0.40981429444924\t\n"
       ]
      },
      {
       "metadata": {},
       "output_type": "pyout",
       "prompt_number": 9,
       "text": [
        "|Hv-lambda v|: 0.022119361623888\t\n",
        "lambda: 0.41330677191893\t\n"
       ]
      },
      {
       "metadata": {},
       "output_type": "pyout",
       "prompt_number": 9,
       "text": [
        "|Hv-lambda v|: 0.017086914697551\t\n",
        "lambda: 0.41540381244739\t\n"
       ]
      },
      {
       "metadata": {},
       "output_type": "pyout",
       "prompt_number": 9,
       "text": [
        "|Hv-lambda v|: 0.013147032434598\t\n",
        "lambda: 0.41664679304722\t\n"
       ]
      },
      {
       "metadata": {},
       "output_type": "pyout",
       "prompt_number": 9,
       "text": [
        "|Hv-lambda v|: 0.010108931169567\t\n",
        "lambda: 0.41738025929058\t\n"
       ]
      },
      {
       "metadata": {},
       "output_type": "pyout",
       "prompt_number": 9,
       "text": [
        "|Hv-lambda v|: 0.0077839432783706\t\n",
        "lambda: 0.41781340963259\t\n"
       ]
      },
      {
       "metadata": {},
       "output_type": "pyout",
       "prompt_number": 9,
       "text": [
        "|Hv-lambda v|: 0.0060104673397447\t\n",
        "lambda: 0.41807026975856\t\n"
       ]
      },
      {
       "metadata": {},
       "output_type": "pyout",
       "prompt_number": 9,
       "text": [
        "|Hv-lambda v|: 0.00465868965407\t\n",
        "lambda: 0.41822357250497\t\n"
       ]
      },
      {
       "metadata": {},
       "output_type": "pyout",
       "prompt_number": 9,
       "text": [
        "|Hv-lambda v|: 0.0036275745446596\t\n",
        "lambda: 0.41831581997517\t\n"
       ]
      },
      {
       "metadata": {},
       "output_type": "pyout",
       "prompt_number": 9,
       "text": [
        "|Hv-lambda v|: 0.0028397234566196\t\n",
        "lambda: 0.41837186683174\t\n"
       ]
      },
      {
       "metadata": {},
       "output_type": "pyout",
       "prompt_number": 9,
       "text": [
        "|Hv-lambda v|: 0.002236301933157\t\n",
        "lambda: 0.4184062960971\t\n"
       ]
      },
      {
       "metadata": {},
       "output_type": "pyout",
       "prompt_number": 9,
       "text": [
        "|Hv-lambda v|: 0.0017727396727294\t\n",
        "lambda: 0.4184277071284\t\n"
       ]
      },
      {
       "metadata": {},
       "output_type": "pyout",
       "prompt_number": 9,
       "text": [
        "|Hv-lambda v|: 0.0014153125063205\t\n",
        "lambda: 0.41844120272217\t\n"
       ]
      },
      {
       "metadata": {},
       "output_type": "pyout",
       "prompt_number": 9,
       "text": [
        "|Hv-lambda v|: 0.0011385074511251\t\n",
        "lambda: 0.418449833163\t\n"
       ]
      },
      {
       "metadata": {},
       "output_type": "pyout",
       "prompt_number": 9,
       "text": [
        "|Hv-lambda v|: 0.0009230210908041\t\n",
        "lambda: 0.41845543715063\t\n"
       ]
      },
      {
       "metadata": {},
       "output_type": "pyout",
       "prompt_number": 9,
       "text": [
        "|Hv-lambda v|: 0.00075424822436452\t\n",
        "lambda: 0.4184591335621\t\n"
       ]
      },
      {
       "metadata": {},
       "output_type": "pyout",
       "prompt_number": 9,
       "text": [
        "|Hv-lambda v|: 0.00062114172808669\t\n",
        "lambda: 0.41846161048114\t\n"
       ]
      },
      {
       "metadata": {},
       "output_type": "pyout",
       "prompt_number": 9,
       "text": [
        "|Hv-lambda v|: 0.00051535058519592\t\n",
        "lambda: 0.41846329604445\t\n"
       ]
      },
      {
       "metadata": {},
       "output_type": "pyout",
       "prompt_number": 9,
       "text": [
        "|Hv-lambda v|: 0.00043056592400841\t\n",
        "lambda: 0.41846446008472\t\n"
       ]
      },
      {
       "metadata": {},
       "output_type": "pyout",
       "prompt_number": 9,
       "text": [
        "|Hv-lambda v|: 0.00036202323924987\t\n",
        "lambda: 0.41846527503341\t\n"
       ]
      },
      {
       "metadata": {},
       "output_type": "pyout",
       "prompt_number": 9,
       "text": [
        "|Hv-lambda v|: 0.00030612288445287\t\n",
        "lambda: 0.41846585270928\t\n"
       ]
      },
      {
       "metadata": {},
       "output_type": "pyout",
       "prompt_number": 9,
       "text": [
        "|Hv-lambda v|: 0.00026014098085973\t\n",
        "lambda: 0.41846626673281\t\n"
       ]
      },
      {
       "metadata": {},
       "output_type": "pyout",
       "prompt_number": 9,
       "text": [
        "|Hv-lambda v|: 0.00022200994690754\t\n",
        "lambda: 0.41846656632769\t\n"
       ]
      },
      {
       "metadata": {},
       "output_type": "pyout",
       "prompt_number": 9,
       "text": [
        "|Hv-lambda v|: 0.00019015278011323\t\n",
        "lambda: 0.41846678491058\t\n"
       ]
      },
      {
       "metadata": {},
       "output_type": "pyout",
       "prompt_number": 9,
       "text": [
        "|Hv-lambda v|: 0.00016335871958364\t\n",
        "lambda: 0.41846694549589\t\n"
       ]
      },
      {
       "metadata": {},
       "output_type": "pyout",
       "prompt_number": 9,
       "text": [
        "|Hv-lambda v|: 0.00014069055844275\t\n",
        "lambda: 0.41846706415767\t\n"
       ]
      },
      {
       "metadata": {},
       "output_type": "pyout",
       "prompt_number": 9,
       "text": [
        "|Hv-lambda v|: 0.000121415930189\t\n",
        "lambda: 0.41846715226112\t\n"
       ]
      },
      {
       "metadata": {},
       "output_type": "pyout",
       "prompt_number": 9,
       "text": [
        "|Hv-lambda v|: 0.00010495656781403\t\n",
        "lambda: 0.41846721792946\t\n"
       ]
      },
      {
       "metadata": {},
       "output_type": "pyout",
       "prompt_number": 9,
       "text": [
        "|Hv-lambda v|: 9.0850917206792e-05\t\n",
        "lambda: 0.41846726703428\t\n"
       ]
      },
      {
       "metadata": {},
       "output_type": "pyout",
       "prompt_number": 9,
       "text": [
        "|Hv-lambda v|: 7.8726573549839e-05\t\n",
        "lambda: 0.41846730384645\t\n"
       ]
      },
      {
       "metadata": {},
       "output_type": "pyout",
       "prompt_number": 9,
       "text": [
        "|Hv-lambda v|: 6.8279916780008e-05\t\n",
        "lambda: 0.41846733150018\t\n"
       ]
      },
      {
       "metadata": {},
       "output_type": "pyout",
       "prompt_number": 9,
       "text": [
        "|Hv-lambda v|: 5.9260988352656e-05\t\n",
        "lambda: 0.41846735230798\t"
       ]
      },
      {
       "metadata": {},
       "output_type": "pyout",
       "prompt_number": 9,
       "text": [
        "\n"
       ]
      },
      {
       "metadata": {},
       "output_type": "pyout",
       "prompt_number": 9,
       "text": [
        "|Hv-lambda v|: 5.1462183438594e-05\t\n",
        "lambda: 0.41846736798768\t\n"
       ]
      },
      {
       "metadata": {},
       "output_type": "pyout",
       "prompt_number": 9,
       "text": [
        "|Hv-lambda v|: 4.4709720659767e-05\t\n",
        "lambda: 0.41846737981407\t\n"
       ]
      },
      {
       "metadata": {},
       "output_type": "pyout",
       "prompt_number": 9,
       "text": [
        "|Hv-lambda v|: 3.8857141232235e-05\t\n",
        "lambda: 0.41846738874214\t\n"
       ]
      },
      {
       "metadata": {},
       "output_type": "pyout",
       "prompt_number": 9,
       "text": [
        "|Hv-lambda v|: 3.3780293984976e-05\t\n",
        "lambda: 0.41846739548608\t\n"
       ]
      },
      {
       "metadata": {},
       "output_type": "pyout",
       "prompt_number": 9,
       "text": [
        "|Hv-lambda v|: 2.937342370534e-05\t\n",
        "lambda: 0.41846740058485\t\n"
       ]
      },
      {
       "metadata": {},
       "output_type": "pyout",
       "prompt_number": 9,
       "text": [
        "|Hv-lambda v|: 2.5546077333122e-05\t\n",
        "lambda: 0.41846740443873\t\n"
       ]
      },
      {
       "metadata": {},
       "output_type": "pyout",
       "prompt_number": 9,
       "text": [
        "|Hv-lambda v|: 2.2220631541018e-05\t\n",
        "lambda: 0.41846740735507\t\n"
       ]
      },
      {
       "metadata": {},
       "output_type": "pyout",
       "prompt_number": 9,
       "text": [
        "|Hv-lambda v|: 1.933029053052e-05\t\n",
        "lambda: 0.4184674095614\t\n"
       ]
      },
      {
       "metadata": {},
       "output_type": "pyout",
       "prompt_number": 9,
       "text": [
        "|Hv-lambda v|: 1.6817443832054e-05\t\n",
        "lambda: 0.418467411232\t\n",
        "max eigenvalue of hessian: 0.418467411232\t\n",
        "did converge: \t\n",
        "true\t\n"
       ]
      }
     ],
     "prompt_number": 9
    },
    {
     "cell_type": "code",
     "collapsed": false,
     "input": [
      "function negativePowermethodAE(inputs, param, delta, filepath, modelpath, maxEigValH) \n",
      "    local maxIter = 100\n",
      "    local acc_threshold = .2\n",
      "    local criterion = nn.MSECriterion()\n",
      "    --criterion.sizeAverage = false\n",
      "    local model_a  = nn.Sequential ()                                                                                                                                            \n",
      "    model_a:add(dofile(modelFile))\n",
      "    --model_a:add(dofile(filepath .. modelpath))\n",
      "\n",
      "    local model_b = nn.Sequential()\n",
      "    model_b:add(dofile(modelFile))\n",
      "    -- model_b:add(dofile(filepath .. modelpath))\n",
      "\n",
      "    local d = torch.randn(param:size()) --need to check\n",
      "    d = d / torch.norm(d)\n",
      "    \n",
      "    local diff = 10\n",
      "    local param_new_a, gradParam_eps_a = model_a:getParameters() \n",
      "    local param_new_b, gradParam_eps_b = model_b:getParameters() \n",
      "    -- in order to reflect loading a new parameter set\n",
      "    local numIters = 0\n",
      "    while diff > delta and numIters < maxIter do\n",
      "        numIters = numIters+1\n",
      "        epsilon = 2*torch.sqrt(1e-15)*(1 + torch.norm(param))/torch.norm(d)\n",
      "\n",
      "        param_new_a:copy(param + d * epsilon)\n",
      "        param_new_b:copy(param - d * epsilon)\n",
      "\n",
      "        --reset gradients\n",
      "        gradParam_eps_a:zero()\n",
      "        gradParam_eps_b:zero()\n",
      "\n",
      "        --feedforward and backpropagation\n",
      "        local outputs = model_a:forward(inputs)\n",
      "        local f = criterion:forward(outputs, inputs)\n",
      "        local df_do = criterion:backward(outputs, inputs)\n",
      "        model_a:backward(inputs, df_do) --gradParams_eps should be updated here \n",
      "             \n",
      "        --f = f/inputs:size(1)\n",
      "        --gradParam_eps_a:div(inputs:size(1))\n",
      "\n",
      "        local outputs = model_b:forward(inputs)\n",
      "        local f = criterion:forward(outputs, inputs)\n",
      "        local df_do = criterion:backward(outputs, inputs)\n",
      "        model_b:backward(inputs, df_do) --gradParams_eps should be updated here \n",
      "        \n",
      "        --f = f/inputs:size(1)\n",
      "        --gradParam_eps_b:div(inputs:size(1))\n",
      "  \n",
      "\n",
      "        local Hd = (gradParam_eps_a - gradParam_eps_b) / (2*epsilon)\n",
      "        local norm_Hd = torch.norm(Hd)\n",
      "\n",
      "        local Md = d*maxEigValH - Hd\n",
      "        local lambda = torch.dot(d, Md)\n",
      "        minEigValH = maxEigValH - lambda\n",
      "\n",
      "        local diff_M = torch.norm(d*lambda - Md)\n",
      "        diff_H = torch.norm(d*minEigValH - Hd)\n",
      "        print('|Hv-lambda v|: '..diff_H) --TODO: comment this out\n",
      "        print('lambda: '..lambda)\n",
      "        d = Md / torch.norm(Md)\n",
      "    end\n",
      "    converged = false\n",
      "    if torch.abs(minEigValH) > diff_H and diff_H < acc_threshold\n",
      "        then converged = true\n",
      "    end\n",
      "    return minEigValH, d, converged\n",
      "end\n"
     ],
     "language": "python",
     "metadata": {},
     "outputs": [],
     "prompt_number": 10
    },
    {
     "cell_type": "code",
     "collapsed": false,
     "input": [
      "minEigValH, v, converged = negativePowermethodAE(inputs,params, 1e-7, _, _, maxEigValH) \n",
      "print('min eigenvalue of hessian: '..minEigValH)\n",
      "print('did converge: ')\n",
      "print(converged)"
     ],
     "language": "python",
     "metadata": {},
     "outputs": [
      {
       "metadata": {},
       "output_type": "pyout",
       "prompt_number": 11,
       "text": [
        "|Hv-lambda v|: 0.0058107878394819\t\n",
        "lambda: 0.41825345474989\t\n"
       ]
      },
      {
       "metadata": {},
       "output_type": "pyout",
       "prompt_number": 11,
       "text": [
        "|Hv-lambda v|: 0.00239028716867\t\n",
        "lambda: 0.41836330367099\t\n"
       ]
      },
      {
       "metadata": {},
       "output_type": "pyout",
       "prompt_number": 11,
       "text": [
        "|Hv-lambda v|: 0.0013790524300759\t\n",
        "lambda: 0.41838434214439\t\n"
       ]
      },
      {
       "metadata": {},
       "output_type": "pyout",
       "prompt_number": 11,
       "text": [
        "|Hv-lambda v|: 0.00099960502779295\t\n",
        "lambda: 0.41839202865013\t\n"
       ]
      },
      {
       "metadata": {},
       "output_type": "pyout",
       "prompt_number": 11,
       "text": [
        "|Hv-lambda v|: 0.00083966931996656\t\n",
        "lambda: 0.41839637108073\t\n"
       ]
      },
      {
       "metadata": {},
       "output_type": "pyout",
       "prompt_number": 11,
       "text": [
        "|Hv-lambda v|: 0.00075886290387221\t\n",
        "lambda: 0.41839956161193\t\n"
       ]
      },
      {
       "metadata": {},
       "output_type": "pyout",
       "prompt_number": 11,
       "text": [
        "|Hv-lambda v|: 0.00070768900164344\t\n",
        "lambda: 0.41840221531511\t\n"
       ]
      },
      {
       "metadata": {},
       "output_type": "pyout",
       "prompt_number": 11,
       "text": [
        "|Hv-lambda v|: 0.00066895632130094\t\n",
        "lambda: 0.41840454127123\t\n"
       ]
      },
      {
       "metadata": {},
       "output_type": "pyout",
       "prompt_number": 11,
       "text": [
        "|Hv-lambda v|: 0.00063655201557592\t\n",
        "lambda: 0.41840662731662\t\n"
       ]
      },
      {
       "metadata": {},
       "output_type": "pyout",
       "prompt_number": 11,
       "text": [
        "|Hv-lambda v|: 0.00060811685003974\t\n",
        "lambda: 0.41840852017238\t\n"
       ]
      },
      {
       "metadata": {},
       "output_type": "pyout",
       "prompt_number": 11,
       "text": [
        "|Hv-lambda v|: 0.00058259634842338\t\n",
        "lambda: 0.41841025023164\t\n"
       ]
      },
      {
       "metadata": {},
       "output_type": "pyout",
       "prompt_number": 11,
       "text": [
        "|Hv-lambda v|: 0.00055941974831802\t\n",
        "lambda: 0.4184118399714\t\n"
       ]
      },
      {
       "metadata": {},
       "output_type": "pyout",
       "prompt_number": 11,
       "text": [
        "|Hv-lambda v|: 0.00053821739269768\t\n",
        "lambda: 0.41841330718931\t\n"
       ]
      },
      {
       "metadata": {},
       "output_type": "pyout",
       "prompt_number": 11,
       "text": [
        "|Hv-lambda v|: 0.00051871822678634\t\n",
        "lambda: 0.41841466648157\t\n"
       ]
      },
      {
       "metadata": {},
       "output_type": "pyout",
       "prompt_number": 11,
       "text": [
        "|Hv-lambda v|: 0.00050070901591699\t\n",
        "lambda: 0.41841593005636\t\n"
       ]
      },
      {
       "metadata": {},
       "output_type": "pyout",
       "prompt_number": 11,
       "text": [
        "|Hv-lambda v|: 0.00048401563861823\t\n",
        "lambda: 0.41841710825578\t\n"
       ]
      },
      {
       "metadata": {},
       "output_type": "pyout",
       "prompt_number": 11,
       "text": [
        "|Hv-lambda v|: 0.00046849290064343\t\n",
        "lambda: 0.41841820992525\t\n"
       ]
      },
      {
       "metadata": {},
       "output_type": "pyout",
       "prompt_number": 11,
       "text": [
        "|Hv-lambda v|: 0.00045401806972254\t\n",
        "lambda: 0.41841924268986\t\n"
       ]
      },
      {
       "metadata": {},
       "output_type": "pyout",
       "prompt_number": 11,
       "text": [
        "|Hv-lambda v|: 0.00044048632322255\t\n",
        "lambda: 0.41842021316766\t\n"
       ]
      },
      {
       "metadata": {},
       "output_type": "pyout",
       "prompt_number": 11,
       "text": [
        "|Hv-lambda v|: 0.00042780734847349\t\n",
        "lambda: 0.41842112713736\t\n"
       ]
      },
      {
       "metadata": {},
       "output_type": "pyout",
       "prompt_number": 11,
       "text": [
        "|Hv-lambda v|: 0.0004159027251731\t\n",
        "lambda: 0.41842198967208\t\n"
       ]
      },
      {
       "metadata": {},
       "output_type": "pyout",
       "prompt_number": 11,
       "text": [
        "|Hv-lambda v|: 0.00040470387485763\t\n",
        "lambda: 0.4184228052472\t\n"
       ]
      },
      {
       "metadata": {},
       "output_type": "pyout",
       "prompt_number": 11,
       "text": [
        "|Hv-lambda v|: 0.00039415043795917\t\n",
        "lambda: 0.41842357782811\t\n"
       ]
      },
      {
       "metadata": {},
       "output_type": "pyout",
       "prompt_number": 11,
       "text": [
        "|Hv-lambda v|: 0.00038418897749945\t\n",
        "lambda: 0.41842431094243\t\n"
       ]
      },
      {
       "metadata": {},
       "output_type": "pyout",
       "prompt_number": 11,
       "text": [
        "|Hv-lambda v|: 0.00037477193569423\t\n",
        "lambda: 0.41842500773971\t\n"
       ]
      },
      {
       "metadata": {},
       "output_type": "pyout",
       "prompt_number": 11,
       "text": [
        "|Hv-lambda v|: 0.00036585678720642\t\n",
        "lambda: 0.41842567104135\t\n"
       ]
      },
      {
       "metadata": {},
       "output_type": "pyout",
       "prompt_number": 11,
       "text": [
        "|Hv-lambda v|: 0.00035740534649462\t\n",
        "lambda: 0.41842630338261\t\n"
       ]
      },
      {
       "metadata": {},
       "output_type": "pyout",
       "prompt_number": 11,
       "text": [
        "|Hv-lambda v|: 0.00034938319613959\t\n",
        "lambda: 0.41842690704805\t\n"
       ]
      },
      {
       "metadata": {},
       "output_type": "pyout",
       "prompt_number": 11,
       "text": [
        "|Hv-lambda v|: 0.0003417592110661\t\n",
        "lambda: 0.41842748410191\t\n"
       ]
      },
      {
       "metadata": {},
       "output_type": "pyout",
       "prompt_number": 11,
       "text": [
        "|Hv-lambda v|: 0.00033450515948495\t\n",
        "lambda: 0.41842803641389\t\n"
       ]
      },
      {
       "metadata": {},
       "output_type": "pyout",
       "prompt_number": 11,
       "text": [
        "|Hv-lambda v|: 0.00032759536495221\t\n",
        "lambda: 0.41842856568152\t\n"
       ]
      },
      {
       "metadata": {},
       "output_type": "pyout",
       "prompt_number": 11,
       "text": [
        "|Hv-lambda v|: 0.00032100641843693\t\n",
        "lambda: 0.41842907344947\t\n"
       ]
      },
      {
       "metadata": {},
       "output_type": "pyout",
       "prompt_number": 11,
       "text": [
        "|Hv-lambda v|: 0.00031471693098346\t\n",
        "lambda: 0.41842956112618\t\n"
       ]
      },
      {
       "metadata": {},
       "output_type": "pyout",
       "prompt_number": 11,
       "text": [
        "|Hv-lambda v|: 0.00030870731983503\t\n",
        "lambda: 0.41843002999854\t\n"
       ]
      },
      {
       "metadata": {},
       "output_type": "pyout",
       "prompt_number": 11,
       "text": [
        "|Hv-lambda v|: 0.00030295962244804\t\n",
        "lambda: 0.41843048124458\t\n"
       ]
      },
      {
       "metadata": {},
       "output_type": "pyout",
       "prompt_number": 11,
       "text": [
        "|Hv-lambda v|: 0.00029745733382521\t\n",
        "lambda: 0.41843091594472\t\n"
       ]
      },
      {
       "metadata": {},
       "output_type": "pyout",
       "prompt_number": 11,
       "text": [
        "|Hv-lambda v|: 0.00029218526345367\t\n",
        "lambda: 0.41843133509152\t\n"
       ]
      },
      {
       "metadata": {},
       "output_type": "pyout",
       "prompt_number": 11,
       "text": [
        "|Hv-lambda v|: 0.00028712940925276\t\n",
        "lambda: 0.41843173959848\t\n"
       ]
      },
      {
       "metadata": {},
       "output_type": "pyout",
       "prompt_number": 11,
       "text": [
        "|Hv-lambda v|: 0.00028227684573272\t\n",
        "lambda: 0.41843213030761\t\n"
       ]
      },
      {
       "metadata": {},
       "output_type": "pyout",
       "prompt_number": 11,
       "text": [
        "|Hv-lambda v|: 0.00027761562453632\t\n",
        "lambda: 0.41843250799629\t\n"
       ]
      },
      {
       "metadata": {},
       "output_type": "pyout",
       "prompt_number": 11,
       "text": [
        "|Hv-lambda v|: 0.00027313468594683\t\n",
        "lambda: 0.41843287338337\t\n"
       ]
      },
      {
       "metadata": {},
       "output_type": "pyout",
       "prompt_number": 11,
       "text": [
        "|Hv-lambda v|: 0.00026882377965355\t\n",
        "lambda: 0.41843322713446\t\n"
       ]
      },
      {
       "metadata": {},
       "output_type": "pyout",
       "prompt_number": 11,
       "text": [
        "|Hv-lambda v|: 0.00026467339365724\t\n",
        "lambda: 0.4184335698668\t\n"
       ]
      },
      {
       "metadata": {},
       "output_type": "pyout",
       "prompt_number": 11,
       "text": [
        "|Hv-lambda v|: 0.0002606746907513\t\n",
        "lambda: 0.41843390215359\t\n"
       ]
      },
      {
       "metadata": {},
       "output_type": "pyout",
       "prompt_number": 11,
       "text": [
        "|Hv-lambda v|: 0.00025681945092116\t\n",
        "lambda: 0.41843422452778\t\n"
       ]
      },
      {
       "metadata": {},
       "output_type": "pyout",
       "prompt_number": 11,
       "text": [
        "|Hv-lambda v|: 0.00025310001989604\t\n",
        "lambda: 0.41843453748557\t\n"
       ]
      },
      {
       "metadata": {},
       "output_type": "pyout",
       "prompt_number": 11,
       "text": [
        "|Hv-lambda v|: 0.00024950926239134\t\n",
        "lambda: 0.41843484148952\t\n"
       ]
      },
      {
       "metadata": {},
       "output_type": "pyout",
       "prompt_number": 11,
       "text": [
        "|Hv-lambda v|: 0.00024604051980922\t\n",
        "lambda: 0.41843513697133\t\n"
       ]
      },
      {
       "metadata": {},
       "output_type": "pyout",
       "prompt_number": 11,
       "text": [
        "|Hv-lambda v|: 0.00024268757219024\t\n",
        "lambda: 0.41843542433441\t\n"
       ]
      },
      {
       "metadata": {},
       "output_type": "pyout",
       "prompt_number": 11,
       "text": [
        "|Hv-lambda v|: 0.00023944460349321\t\n",
        "lambda: 0.41843570395614\t\n"
       ]
      },
      {
       "metadata": {},
       "output_type": "pyout",
       "prompt_number": 11,
       "text": [
        "|Hv-lambda v|: 0.00023630617017331\t\n",
        "lambda: 0.41843597618994\t\n"
       ]
      },
      {
       "metadata": {},
       "output_type": "pyout",
       "prompt_number": 11,
       "text": [
        "|Hv-lambda v|: 0.00023326717249017\t\n",
        "lambda: 0.41843624136713\t\n"
       ]
      },
      {
       "metadata": {},
       "output_type": "pyout",
       "prompt_number": 11,
       "text": [
        "|Hv-lambda v|: 0.00023032282856191\t\n",
        "lambda: 0.41843649979868\t\n"
       ]
      },
      {
       "metadata": {},
       "output_type": "pyout",
       "prompt_number": 11,
       "text": [
        "|Hv-lambda v|: 0.00022746865053266\t\n",
        "lambda: 0.41843675177673\t\n"
       ]
      },
      {
       "metadata": {},
       "output_type": "pyout",
       "prompt_number": 11,
       "text": [
        "|Hv-lambda v|: 0.00022470042293999\t\n",
        "lambda: 0.41843699757599\t\n"
       ]
      },
      {
       "metadata": {},
       "output_type": "pyout",
       "prompt_number": 11,
       "text": [
        "|Hv-lambda v|: 0.00022201418294208\t\n",
        "lambda: 0.41843723745507\t\n"
       ]
      },
      {
       "metadata": {},
       "output_type": "pyout",
       "prompt_number": 11,
       "text": [
        "|Hv-lambda v|: 0.00021940620209028\t\n",
        "lambda: 0.41843747165758\t\n"
       ]
      },
      {
       "metadata": {},
       "output_type": "pyout",
       "prompt_number": 11,
       "text": [
        "|Hv-lambda v|: 0.0002168729698072\t\n",
        "lambda: 0.4184377004133\t\n"
       ]
      },
      {
       "metadata": {},
       "output_type": "pyout",
       "prompt_number": 11,
       "text": [
        "|Hv-lambda v|: 0.00021441117815125\t\n",
        "lambda: 0.41843792393907\t\n"
       ]
      },
      {
       "metadata": {},
       "output_type": "pyout",
       "prompt_number": 11,
       "text": [
        "|Hv-lambda v|: 0.0002120177077956\t\n",
        "lambda: 0.41843814243977\t\n"
       ]
      },
      {
       "metadata": {},
       "output_type": "pyout",
       "prompt_number": 11,
       "text": [
        "|Hv-lambda v|: 0.00020968961516488\t\n",
        "lambda: 0.41843835610909\t\n"
       ]
      },
      {
       "metadata": {},
       "output_type": "pyout",
       "prompt_number": 11,
       "text": [
        "|Hv-lambda v|: 0.00020742412066454\t\n",
        "lambda: 0.41843856513031\t\n"
       ]
      },
      {
       "metadata": {},
       "output_type": "pyout",
       "prompt_number": 11,
       "text": [
        "|Hv-lambda v|: 0.00020521859764774\t\n",
        "lambda: 0.41843876967702\t\n"
       ]
      },
      {
       "metadata": {},
       "output_type": "pyout",
       "prompt_number": 11,
       "text": [
        "|Hv-lambda v|: 0.00020307056254033\t\n",
        "lambda: 0.41843896991372\t\n"
       ]
      },
      {
       "metadata": {},
       "output_type": "pyout",
       "prompt_number": 11,
       "text": [
        "|Hv-lambda v|: 0.00020097766539\t\n",
        "lambda: 0.41843916599646\t\n"
       ]
      },
      {
       "metadata": {},
       "output_type": "pyout",
       "prompt_number": 11,
       "text": [
        "|Hv-lambda v|: 0.00019893768132878\t\n",
        "lambda: 0.41843935807335\t\n"
       ]
      },
      {
       "metadata": {},
       "output_type": "pyout",
       "prompt_number": 11,
       "text": [
        "|Hv-lambda v|: 0.00019694850265688\t\n",
        "lambda: 0.41843954628508\t\n"
       ]
      },
      {
       "metadata": {},
       "output_type": "pyout",
       "prompt_number": 11,
       "text": [
        "|Hv-lambda v|: 0.00019500813146361\t\n",
        "lambda: 0.4184397307654\t\n"
       ]
      },
      {
       "metadata": {},
       "output_type": "pyout",
       "prompt_number": 11,
       "text": [
        "|Hv-lambda v|: 0.0001931146727892\t\n",
        "lambda: 0.41843991164153\t\n"
       ]
      },
      {
       "metadata": {},
       "output_type": "pyout",
       "prompt_number": 11,
       "text": [
        "|Hv-lambda v|: 0.00019126632831995\t\n",
        "lambda: 0.41844008903458\t\n"
       ]
      },
      {
       "metadata": {},
       "output_type": "pyout",
       "prompt_number": 11,
       "text": [
        "|Hv-lambda v|: 0.00018946139047404\t\n",
        "lambda: 0.41844026305991\t\n"
       ]
      },
      {
       "metadata": {},
       "output_type": "pyout",
       "prompt_number": 11,
       "text": [
        "|Hv-lambda v|: 0.00018769823696107\t\n",
        "lambda: 0.41844043382746\t\n"
       ]
      },
      {
       "metadata": {},
       "output_type": "pyout",
       "prompt_number": 11,
       "text": [
        "|Hv-lambda v|: 0.00018597532564306\t\n",
        "lambda: 0.41844060144215\t\n"
       ]
      },
      {
       "metadata": {},
       "output_type": "pyout",
       "prompt_number": 11,
       "text": [
        "|Hv-lambda v|: 0.00018429118989482\t\n",
        "lambda: 0.41844076600403\t\n"
       ]
      },
      {
       "metadata": {},
       "output_type": "pyout",
       "prompt_number": 11,
       "text": [
        "|Hv-lambda v|: 0.00018264443409089\t\n",
        "lambda: 0.41844092760873\t\n"
       ]
      },
      {
       "metadata": {},
       "output_type": "pyout",
       "prompt_number": 11,
       "text": [
        "|Hv-lambda v|: 0.00018103372950993\t\n",
        "lambda: 0.41844108634757\t\n"
       ]
      },
      {
       "metadata": {},
       "output_type": "pyout",
       "prompt_number": 11,
       "text": [
        "|Hv-lambda v|: 0.00017945781052669\t\n",
        "lambda: 0.41844124230787\t\n"
       ]
      },
      {
       "metadata": {},
       "output_type": "pyout",
       "prompt_number": 11,
       "text": [
        "|Hv-lambda v|: 0.00017791547101198\t\n",
        "lambda: 0.41844139557322\t\n"
       ]
      },
      {
       "metadata": {},
       "output_type": "pyout",
       "prompt_number": 11,
       "text": [
        "|Hv-lambda v|: 0.00017640556088649\t\n",
        "lambda: 0.41844154622358\t\n"
       ]
      },
      {
       "metadata": {},
       "output_type": "pyout",
       "prompt_number": 11,
       "text": [
        "|Hv-lambda v|: 0.00017492698311248\t\n",
        "lambda: 0.41844169433555\t\n"
       ]
      },
      {
       "metadata": {},
       "output_type": "pyout",
       "prompt_number": 11,
       "text": [
        "|Hv-lambda v|: 0.00017347869067782\t\n",
        "lambda: 0.41844183998255\t\n"
       ]
      },
      {
       "metadata": {},
       "output_type": "pyout",
       "prompt_number": 11,
       "text": [
        "|Hv-lambda v|: 0.00017205968384657\t\n",
        "lambda: 0.41844198323495\t\n"
       ]
      },
      {
       "metadata": {},
       "output_type": "pyout",
       "prompt_number": 11,
       "text": [
        "|Hv-lambda v|: 0.00017066900760358\t\n",
        "lambda: 0.41844212416028\t\n"
       ]
      },
      {
       "metadata": {},
       "output_type": "pyout",
       "prompt_number": 11,
       "text": [
        "|Hv-lambda v|: 0.0001693057492204\t\n",
        "lambda: 0.41844226282335\t\n"
       ]
      },
      {
       "metadata": {},
       "output_type": "pyout",
       "prompt_number": 11,
       "text": [
        "|Hv-lambda v|: 0.00016796903598022\t\n",
        "lambda: 0.41844239928638\t\n"
       ]
      },
      {
       "metadata": {},
       "output_type": "pyout",
       "prompt_number": 11,
       "text": [
        "|Hv-lambda v|: 0.00016665803307592\t\n",
        "lambda: 0.41844253360918\t\n"
       ]
      },
      {
       "metadata": {},
       "output_type": "pyout",
       "prompt_number": 11,
       "text": [
        "|Hv-lambda v|: 0.00016537194157313\t\n",
        "lambda: 0.41844266584921\t\n"
       ]
      },
      {
       "metadata": {},
       "output_type": "pyout",
       "prompt_number": 11,
       "text": [
        "|Hv-lambda v|: 0.00016410999653585\t\n",
        "lambda: 0.41844279606175\t\n"
       ]
      },
      {
       "metadata": {},
       "output_type": "pyout",
       "prompt_number": 11,
       "text": [
        "|Hv-lambda v|: 0.00016287146531301\t\n",
        "lambda: 0.41844292429998\t\n"
       ]
      },
      {
       "metadata": {},
       "output_type": "pyout",
       "prompt_number": 11,
       "text": [
        "|Hv-lambda v|: 0.00016165564576801\t\n",
        "lambda: 0.41844305061509\t\n"
       ]
      },
      {
       "metadata": {},
       "output_type": "pyout",
       "prompt_number": 11,
       "text": [
        "|Hv-lambda v|: 0.00016046186484257\t\n",
        "lambda: 0.41844317505638\t\n"
       ]
      },
      {
       "metadata": {},
       "output_type": "pyout",
       "prompt_number": 11,
       "text": [
        "|Hv-lambda v|: 0.00015928947696152\t\n",
        "lambda: 0.41844329767134\t\n"
       ]
      },
      {
       "metadata": {},
       "output_type": "pyout",
       "prompt_number": 11,
       "text": [
        "|Hv-lambda v|: 0.0001581378627574\t\n",
        "lambda: 0.41844341850575\t\n"
       ]
      },
      {
       "metadata": {},
       "output_type": "pyout",
       "prompt_number": 11,
       "text": [
        "|Hv-lambda v|: 0.00015700642766045\t\n",
        "lambda: 0.41844353760377\t\n"
       ]
      },
      {
       "metadata": {},
       "output_type": "pyout",
       "prompt_number": 11,
       "text": [
        "|Hv-lambda v|: 0.00015589460073605\t\n",
        "lambda: 0.41844365500795\t\n"
       ]
      },
      {
       "metadata": {},
       "output_type": "pyout",
       "prompt_number": 11,
       "text": [
        "|Hv-lambda v|: 0.00015480183352538\t\n",
        "lambda: 0.4184437707594\t\n"
       ]
      },
      {
       "metadata": {},
       "output_type": "pyout",
       "prompt_number": 11,
       "text": [
        "|Hv-lambda v|: 0.00015372759886849\t\n",
        "lambda: 0.4184438848978\t\n"
       ]
      },
      {
       "metadata": {},
       "output_type": "pyout",
       "prompt_number": 11,
       "text": [
        "|Hv-lambda v|: 0.00015267138998467\t\n",
        "lambda: 0.41844399746146\t\n"
       ]
      },
      {
       "metadata": {},
       "output_type": "pyout",
       "prompt_number": 11,
       "text": [
        "|Hv-lambda v|: 0.00015163271939957\t\n",
        "lambda: 0.41844410848742\t\n"
       ]
      },
      {
       "metadata": {},
       "output_type": "pyout",
       "prompt_number": 11,
       "text": [
        "|Hv-lambda v|: 0.00015061111806157\t\n",
        "lambda: 0.41844421801142\t\n",
        "min eigenvalue of hessian: 2.3193220577311e-05\t\n",
        "did converge: \t\n",
        "false\t\n"
       ]
      }
     ],
     "prompt_number": 11
    },
    {
     "cell_type": "code",
     "collapsed": false,
     "input": [
      "function lanczosAE(inputs, param, delta, filepath, modelpath) \n",
      "    local maxIter = 50\n",
      "    local acc_threshold = .2\n",
      "    local criterion = nn.MSECriterion()\n",
      "    --criterion.sizeAverage = false\n",
      "    local model_a  = nn.Sequential ()                                                                                                                                            \n",
      "    model_a:add(dofile(modelFile))\n",
      "    --model_a:add(dofile(filepath .. modelpath))\n",
      "\n",
      "    local model_b = nn.Sequential()\n",
      "    model_b:add(dofile(modelFile))\n",
      "    --model_b:add(dofile(filepath .. modelpath))\n",
      "\n",
      "    local param_new_a, gradParam_eps_a = model_a:getParameters() \n",
      "    local param_new_b, gradParam_eps_b = model_b:getParameters() \n",
      "    -- in order to reflect loading a new parameter set\n",
      "    \n",
      "    local T = torch.Tensor(maxIter,maxIter):fill(0)-- initialize the tri-diagonal matrix T with zeros\n",
      "    dim = param:size(1)\n",
      "    local Vt = torch.Tensor(maxIter, dim):fill(0)-- initialize the Krylov matrix with zeros\n",
      "    -- initialize:\n",
      "    local v = torch.randn(param:size()) \n",
      "    v = v/torch.norm(v)\n",
      "    local v_old = 0\n",
      "    local beta = 0;\n",
      "    \n",
      "    for iter =1, maxIter do\n",
      "        Vt[iter] = v\n",
      "        \n",
      "        epsilon = 2*torch.sqrt(1e-15)*(1 + torch.norm(param))/torch.norm(v)\n",
      "        param_new_a:copy(param + v * epsilon)\n",
      "        param_new_b:copy(param - v * epsilon)\n",
      "\n",
      "        --reset gradients\n",
      "        gradParam_eps_a:zero()\n",
      "        gradParam_eps_b:zero()\n",
      "        \n",
      "\n",
      "        --feedforward and backpropagation\n",
      "        local outputs = model_a:forward(inputs)\n",
      "        local f = criterion:forward(outputs, inputs)\n",
      "        local df_do = criterion:backward(outputs, inputs)\n",
      "        model_a:backward(inputs, df_do) --gradParams_eps should be updated here \n",
      "  \n",
      "        --f = f/inputs:size(1)\n",
      "        --gradParam_eps_a:div(inputs:size(1))\n",
      "        \n",
      "        local outputs = model_b:forward(inputs)\n",
      "        local f = criterion:forward(outputs, inputs)\n",
      "        local df_do = criterion:backward(outputs, inputs)\n",
      "        model_b:backward(inputs, df_do) --gradParams_eps should be updated here \n",
      "    \n",
      "        --f = f/inputs:size(1)\n",
      "        --gradParam_eps_b:div(inputs:size(1))\n",
      "\n",
      "        local Hv = (gradParam_eps_a - gradParam_eps_b) / (2*epsilon)\n",
      "        local ww = Hv -- omega prime\n",
      "        local alpha = torch.dot(ww, v)\n",
      "        local w = ww - v*alpha - v_old*beta\n",
      "        ww = nil \n",
      "        Hv = nil\n",
      "        beta = torch.norm(w)\n",
      "        v_old = v:clone()\n",
      "        v = w / beta\n",
      "        w = nil\n",
      "        T[iter][iter] = alpha\n",
      "        if iter<maxIter then\n",
      "            T[iter][iter+1] = beta\n",
      "            T[iter+1][iter] = beta \n",
      "        end    \n",
      "    end\n",
      "\n",
      "    -- find eigenvalues and eigenvectors of T\n",
      "    lambdas, V_T = torch.symeig(T, 'V') -- maximal eigenvalue of T and the corresponding eigenvector\n",
      "    local yy, i = torch.sort(torch.abs(lambdas))\n",
      "    lambda = yy[maxIter]\n",
      "    V_TT = V_T:t()\n",
      "    v = V_TT[i[maxIter]]\n",
      "    --------------------------------------------------\n",
      "    -- get eigenvector of H\n",
      "    V = Vt:t() -- now V is the Krylov matrix\n",
      "    v = torch.mv(V, v)\n",
      "    v = v / torch.norm(v)\n",
      "    --compute Hv\n",
      "    param_new_a:copy(param + v * epsilon)\n",
      "    param_new_b:copy(param - v * epsilon)\n",
      "\n",
      "    --reset gradients\n",
      "    gradParam_eps_a:zero()\n",
      "    gradParam_eps_b:zero()\n",
      "\n",
      "    local epsilon = 2*torch.sqrt(1e-15)*(1 + torch.norm(param))/torch.norm(v)\n",
      "\n",
      "    --feedforward and backpropagation\n",
      "    local outputs = model_a:forward(inputs)\n",
      "    local f = criterion:forward(outputs, inputs)\n",
      "    local df_do = criterion:backward(outputs, inputs)\n",
      "    model_a:backward(inputs, df_do) --gradParams_eps should be updated here \n",
      "\n",
      "    --f = f/inputs:size(1)\n",
      "    --gradParam_eps_a:div(inputs:size(1))\n",
      "\n",
      "    local outputs = model_b:forward(inputs)\n",
      "    local f = criterion:forward(outputs, inputs)\n",
      "    local df_do = criterion:backward(outputs, inputs)\n",
      "    model_b:backward(inputs, df_do) --gradParams_eps should be updated here \n",
      "\n",
      "    --f = f/inputs:size(1)\n",
      "    --gradParam_eps_b:div(inputs:size(1))\n",
      "\n",
      "    local Hv = (gradParam_eps_a - gradParam_eps_b) / (2*epsilon)\n",
      "    local diff = torch.norm(Hv - v*lambda)\n",
      "    print('|Hv-lambda v|: '..diff) -- TODO: comment this out\n",
      "    converged = torch.abs(lambda) > diff and diff<acc_threshold\n",
      "    return lambda, v, converged\n",
      "end\n"
     ],
     "language": "python",
     "metadata": {},
     "outputs": [],
     "prompt_number": 41
    },
    {
     "cell_type": "code",
     "collapsed": false,
     "input": [
      "maxEigValH, v, converged = lanczosAE(inputs,params, 1e-7, _, _) \n",
      "print('max eigenvalue of hessian: '..maxEigValH)\n",
      "print('did converge: ')\n",
      "print(converged)"
     ],
     "language": "python",
     "metadata": {},
     "outputs": [
      {
       "metadata": {},
       "output_type": "pyout",
       "prompt_number": 42,
       "text": [
        "|Hv-lambda v|: 1.7724699707034e-08\t\n",
        "max eigenvalue of hessian: 0.41846741677256\t\n",
        "did converge: \t\n",
        "true\t\n"
       ]
      }
     ],
     "prompt_number": 42
    },
    {
     "cell_type": "code",
     "collapsed": false,
     "input": [
      "function negativeLanczosAE(inputs, param, delta, filepath, modelpath, maxEigValH) \n",
      "    local maxIter = 100\n",
      "    local acc_threshold = .2\n",
      "    local criterion = nn.MSECriterion()\n",
      "    --criterion.sizeAverage = false\n",
      "    local model_a  = nn.Sequential ()                                                                                                                                            \n",
      "    model_a:add(dofile(modelFile))\n",
      "    --model_a:add(dofile(filepath .. modelpath))\n",
      "\n",
      "    local model_b = nn.Sequential()\n",
      "    model_b:add(dofile(modelFile))\n",
      "    --model_b:add(dofile(filepath .. modelpath))\n",
      "\n",
      "    local param_new_a, gradParam_eps_a = model_a:getParameters() \n",
      "    local param_new_b, gradParam_eps_b = model_b:getParameters() \n",
      "    -- in order to reflect loading a new parameter set\n",
      "    \n",
      "    local T = torch.Tensor(maxIter,maxIter):fill(0)-- initialize the tri-diagonal matrix T with zeros\n",
      "    dim = param:size(1)\n",
      "    local Vt = torch.Tensor(maxIter, dim):fill(0)-- initialize the Krylov matrix with zeros\n",
      "    -- initialize:\n",
      "    local v = torch.randn(param:size()) \n",
      "    v = v/torch.norm(v)\n",
      "    local v_old = 0\n",
      "    local beta = 0;\n",
      "    \n",
      "    for iter =1, maxIter do\n",
      "        Vt[iter] = v\n",
      "        \n",
      "        epsilon = 2*torch.sqrt(1e-15)*(1 + torch.norm(param))/torch.norm(v)\n",
      "        param_new_a:copy(param + v * epsilon)\n",
      "        param_new_b:copy(param - v * epsilon)\n",
      "\n",
      "        --reset gradients\n",
      "        gradParam_eps_a:zero()\n",
      "        gradParam_eps_b:zero()\n",
      "        \n",
      "\n",
      "        --feedforward and backpropagation\n",
      "        local outputs = model_a:forward(inputs)\n",
      "        local f = criterion:forward(outputs, inputs)\n",
      "        local df_do = criterion:backward(outputs, inputs)\n",
      "        model_a:backward(inputs, df_do) --gradParams_eps should be updated here \n",
      "  \n",
      "        --f = f/inputs:size(1)\n",
      "        --gradParam_eps_a:div(inputs:size(1))\n",
      "        \n",
      "        local outputs = model_b:forward(inputs)\n",
      "        local f = criterion:forward(outputs, inputs)\n",
      "        local df_do = criterion:backward(outputs, inputs)\n",
      "        model_b:backward(inputs, df_do) --gradParams_eps should be updated here \n",
      "    \n",
      "        --f = f/inputs:size(1)\n",
      "        --gradParam_eps_b:div(inputs:size(1))\n",
      "\n",
      "        local Hv = (gradParam_eps_a - gradParam_eps_b) / (2*epsilon)\n",
      "        local Mv = v*maxEigValH - Hv\n",
      "        Hv = nil\n",
      "        local ww = Mv -- omega prime\n",
      "        local alpha = torch.dot(ww, v)\n",
      "        local w = ww - v*alpha - v_old*beta\n",
      "        ww = nil \n",
      "        Hv = nil\n",
      "        beta = torch.norm(w)\n",
      "        v_old = v:clone()\n",
      "        v = w / beta\n",
      "        w = nil\n",
      "        T[iter][iter] = alpha\n",
      "        if iter<maxIter then\n",
      "            T[iter][iter+1] = beta\n",
      "            T[iter+1][iter] = beta \n",
      "        end    \n",
      "    end\n",
      "\n",
      "    -- find eigenvalues and eigenvectors of T\n",
      "    lambdas, V_T = torch.symeig(T, 'V') -- maximal eigenvalue of T and the corresponding eigenvector\n",
      "    local yy, i = torch.sort(torch.abs(lambdas))\n",
      "    lambda = yy[maxIter]\n",
      "    V_TT = V_T:t()\n",
      "    v = V_TT[i[maxIter]]\n",
      "    --------------------------------------------------\n",
      "    -- get eigenvector of H\n",
      "    V = Vt:t() -- now V is the Krylov matrix\n",
      "    v = torch.mv(V, v)\n",
      "    v = v / torch.norm(v)\n",
      "    --compute Hv\n",
      "    param_new_a:copy(param + v * epsilon)\n",
      "    param_new_b:copy(param - v * epsilon)\n",
      "\n",
      "    --reset gradients\n",
      "    gradParam_eps_a:zero()\n",
      "    gradParam_eps_b:zero()\n",
      "\n",
      "    local epsilon = 2*torch.sqrt(1e-15)*(1 + torch.norm(param))/torch.norm(v)\n",
      "\n",
      "    --feedforward and backpropagation\n",
      "    local outputs = model_a:forward(inputs)\n",
      "    local f = criterion:forward(outputs, inputs)\n",
      "    local df_do = criterion:backward(outputs, inputs)\n",
      "    model_a:backward(inputs, df_do) --gradParams_eps should be updated here \n",
      "\n",
      "    --f = f/inputs:size(1)\n",
      "    --gradParam_eps_a:div(inputs:size(1))\n",
      "\n",
      "    local outputs = model_b:forward(inputs)\n",
      "    local f = criterion:forward(outputs, inputs)\n",
      "    local df_do = criterion:backward(outputs, inputs)\n",
      "    model_b:backward(inputs, df_do) --gradParams_eps should be updated here \n",
      "\n",
      "    --f = f/inputs:size(1)\n",
      "    --gradParam_eps_b:div(inputs:size(1))\n",
      "\n",
      "    local Hv = (gradParam_eps_a - gradParam_eps_b) / (2*epsilon)\n",
      "    local Mv = v*maxEigValH - Hv\n",
      "    \n",
      "    minEigValH = maxEigValH - lambda\n",
      "    local diff_M = torch.norm(v*lambda - Mv)\n",
      "    local diff_H = torch.norm(v*minEigValH - Hv)\n",
      "    \n",
      "    --print(diff_M) -- TODO: comment this out\n",
      "    print('|Hv-lambda v|: '..diff_H) -- TODO: comment this out\n",
      "    converged = torch.abs(minEigValH) > diff_H and torch.abs(lambda) > diff_M and diff_H < acc_threshold\n",
      "    return minEigValH, v, converged\n",
      "end"
     ],
     "language": "python",
     "metadata": {},
     "outputs": [],
     "prompt_number": 43
    },
    {
     "cell_type": "code",
     "collapsed": false,
     "input": [
      "minEigValH, v, converged = negativeLanczosAE(inputs,params, 1e-7, _, _, maxEigValH) \n",
      "print('min eigenvalue of hessian: '..minEigValH)\n",
      "print('did converge: ')\n",
      "print(converged)"
     ],
     "language": "python",
     "metadata": {},
     "outputs": [
      {
       "metadata": {},
       "output_type": "pyout",
       "prompt_number": 44,
       "text": [
        "|Hv-lambda v|: 1.7794392602333e-05\t\n",
        "min eigenvalue of hessian: 7.6222204964393e-07\t\n",
        "did converge: \t\n",
        "false\t\n"
       ]
      }
     ],
     "prompt_number": 44
    },
    {
     "cell_type": "code",
     "collapsed": false,
     "input": [],
     "language": "python",
     "metadata": {},
     "outputs": []
    }
   ],
   "metadata": {}
  }
 ]
}